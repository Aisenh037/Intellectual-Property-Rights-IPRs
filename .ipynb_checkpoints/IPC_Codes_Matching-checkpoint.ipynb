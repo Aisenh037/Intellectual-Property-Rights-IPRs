{
 "cells": [
  {
   "cell_type": "code",
   "execution_count": 7,
   "id": "90d052ac-c5ee-4157-9100-385d9b2eed20",
   "metadata": {},
   "outputs": [],
   "source": [
    "import pandas as pd\n",
    "import numpy as np"
   ]
  },
  {
   "cell_type": "code",
   "execution_count": 21,
   "id": "b0d9c0fd-7219-4727-b9e1-aafb9cd25058",
   "metadata": {},
   "outputs": [
    {
     "name": "stdout",
     "output_type": "stream",
     "text": [
      "✅ Files loaded successfully!\n",
      "Main data has 37297 rows.\n",
      "WIPO green codes file has 1214 codes.\n"
     ]
    }
   ],
   "source": [
    "# --- 1. Load your data files ---\n",
    "try:\n",
    "    # Load your main data file\n",
    "    main_df = pd.read_csv(r\"C:\\Users\\ASUS\\Desktop\\Research Work\\Sonal_GIN_final_clean_code_file.csv\")\n",
    "    \n",
    "    # Load the WIPO green codes file\n",
    "    wipo_df = pd.read_csv('cleaned_WIPO_IPC_green_codes.csv')\n",
    "    \n",
    "    print(\"✅ Files loaded successfully!\")\n",
    "    print(\"Main data has {} rows.\".format(len(main_df)))\n",
    "    print(\"WIPO green codes file has {} codes.\".format(len(wipo_df)))\n",
    "    \n",
    "except FileNotFoundError as e:\n",
    "    print(f\"Error loading files: {e}\")\n",
    "    print(\"Please make sure 'Sonal_GIN_cleaned_final_2.csv' and 'cleaned_WIPO_IPC_green_codes.csv' are in the same folder.\")"
   ]
  },
  {
   "cell_type": "code",
   "execution_count": 22,
   "id": "1820c86d-f253-4264-8f1e-dede785a88a4",
   "metadata": {},
   "outputs": [
    {
     "name": "stdout",
     "output_type": "stream",
     "text": [
      "\n",
      "Created a search pattern with 1214 green codes.\n"
     ]
    }
   ],
   "source": [
    "# --- 2. Prepare the list of Green Codes for matching ---\n",
    "\n",
    "# Use the 'clean_code' column from the WIPO file\n",
    "# We drop any potential missing values and ensure all codes are strings\n",
    "green_codes_list = wipo_df['clean_code'].dropna().astype(str).tolist()\n",
    "\n",
    "# Create a single, powerful regular expression pattern by joining all codes with '|' (OR)\n",
    "# This is highly efficient for searching\n",
    "green_code_pattern = '|'.join(green_codes_list)\n",
    "print(f\"\\nCreated a search pattern with {len(green_codes_list)} green codes.\")\n",
    "\n"
   ]
  },
  {
   "cell_type": "code",
   "execution_count": 23,
   "id": "08a3fd3b-6fbc-4b4e-9935-d9a46aa686da",
   "metadata": {},
   "outputs": [
    {
     "name": "stdout",
     "output_type": "stream",
     "text": [
      "Classifying 'Cleaned_ICR' column...\n",
      "-> 'Cleaned_ICR' column classified.\n"
     ]
    }
   ],
   "source": [
    "# --- 3. Classify the 'Cleaned_ICR' column ---\n",
    "\n",
    "if 'Cleaned_ICR' in main_df.columns:\n",
    "    print(\"Classifying 'Cleaned_ICR' column...\")\n",
    "    # Ensure the target column is a string type to prevent errors\n",
    "    main_df['Cleaned_ICR'] = main_df['Cleaned_ICR'].astype(str)\n",
    "    \n",
    "    # .str.contains() checks each cell for any of the green codes in our pattern\n",
    "    matches_icr = main_df['Cleaned_ICR'].str.contains(green_code_pattern, na=False)\n",
    "    \n",
    "    # Create the new classification column based on the results\n",
    "    main_df['ICR_Code_Type'] = np.where(matches_icr, 'Green', 'Non-Green')\n",
    "    print(\"-> 'Cleaned_ICR' column classified.\")\n",
    "else:\n",
    "    print(\"Warning: 'Cleaned_ICR' column not found in the main file.\")\n"
   ]
  },
  {
   "cell_type": "code",
   "execution_count": 24,
   "id": "a1396b2d-c472-488c-baa1-f28a5c6c900e",
   "metadata": {},
   "outputs": [
    {
     "name": "stdout",
     "output_type": "stream",
     "text": [
      "Classifying 'Cleaned_IC' column...\n",
      "-> 'Cleaned_IC' column classified.\n"
     ]
    }
   ],
   "source": [
    "# --- 4. Classify the 'Cleaned_IC' column ---\n",
    "\n",
    "if 'Cleaned_IC' in main_df.columns:\n",
    "    print(\"Classifying 'Cleaned_IC' column...\")\n",
    "    # Ensure the target column is a string type\n",
    "    main_df['Cleaned_IC'] = main_df['Cleaned_IC'].astype(str)\n",
    "    \n",
    "    # Perform the same matching operation on the 'Cleaned_IC' column\n",
    "    matches_ic = main_df['Cleaned_IC'].str.contains(green_code_pattern, na=False)\n",
    "    \n",
    "    # Create the second classification column\n",
    "    main_df['IC_Code_Type'] = np.where(matches_ic, 'Green', 'Non-Green')\n",
    "    print(\"-> 'Cleaned_IC' column classified.\")\n",
    "else:\n",
    "    print(\"Warning: 'Cleaned_IC' column not found in the main file.\")"
   ]
  },
  {
   "cell_type": "code",
   "execution_count": 25,
   "id": "8f22b6bd-a1ee-49b6-8bbf-806f1afff4db",
   "metadata": {},
   "outputs": [
    {
     "name": "stdout",
     "output_type": "stream",
     "text": [
      "\n",
      "✅ Processing complete! The final file has been saved as 'Sonal_GIN_classified_green_codes_final_final.csv'\n",
      "\n",
      "Here is a preview of your final data with the new classification columns:\n",
      "                                     Cleaned_ICR ICR_Code_Type  \\\n",
      "0                               A01G2500;A01G900         Green   \n",
      "1                                        A01H100         Green   \n",
      "2                                       C07K1400     Non-Green   \n",
      "3                                        A01H100         Green   \n",
      "4                                        B10N335     Non-Green   \n",
      "5  B60R2138;B29C64106;B60W3000;E05B7712;B62D3704     Non-Green   \n",
      "6                                            nan     Non-Green   \n",
      "7                                        B60N200     Non-Green   \n",
      "8                                       B60K1700     Non-Green   \n",
      "9       B60N230;B60N202;B64D1106;B60N232;B60N242     Non-Green   \n",
      "\n",
      "                                      Cleaned_IC IC_Code_Type  \n",
      "0                               A01G2500;A01G900        Green  \n",
      "1                                        A01H100        Green  \n",
      "2                                       C07K1400    Non-Green  \n",
      "3                                        A01H100        Green  \n",
      "4                                        B10N335    Non-Green  \n",
      "5  B60R2138;B29C64106;B60W3000;E05B7712;B62D3704    Non-Green  \n",
      "6                                            nan    Non-Green  \n",
      "7                                        B60N200    Non-Green  \n",
      "8                                       B60K1700    Non-Green  \n",
      "9       B60N230;B60N202;B64D1106;B60N232;B60N242    Non-Green  \n"
     ]
    }
   ],
   "source": [
    "# --- 5. Save and display the final result ---\n",
    "\n",
    "output_filename = 'Sonal_GIN_classified_green_codes_final_final.csv'\n",
    "main_df.to_csv(output_filename, index=False)\n",
    "\n",
    "print(f\"\\n✅ Processing complete! The final file has been saved as '{output_filename}'\")\n",
    "\n",
    "# Display the head of the DataFrame with the new columns\n",
    "print(\"\\nHere is a preview of your final data with the new classification columns:\")\n",
    "# We select the key columns to make the preview clear\n",
    "display_cols = ['Cleaned_ICR', 'ICR_Code_Type', 'Cleaned_IC', 'IC_Code_Type']\n",
    "existing_display_cols = [col for col in display_cols if col in main_df.columns]\n",
    "print(main_df[existing_display_cols].head(10))"
   ]
  },
  {
   "cell_type": "code",
   "execution_count": null,
   "id": "4845a0ac-74f6-43ea-b92d-a9f0df38841f",
   "metadata": {},
   "outputs": [],
   "source": []
  }
 ],
 "metadata": {
  "kernelspec": {
   "display_name": "Python 3 (ipykernel)",
   "language": "python",
   "name": "python3"
  },
  "language_info": {
   "codemirror_mode": {
    "name": "ipython",
    "version": 3
   },
   "file_extension": ".py",
   "mimetype": "text/x-python",
   "name": "python",
   "nbconvert_exporter": "python",
   "pygments_lexer": "ipython3",
   "version": "3.13.1"
  }
 },
 "nbformat": 4,
 "nbformat_minor": 5
}
