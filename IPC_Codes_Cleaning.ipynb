{
 "cells": [
  {
   "cell_type": "markdown",
   "id": "3a914335-5865-4af4-a8f6-21a4be349242",
   "metadata": {},
   "source": [
    "# IPC CODES CLEANING "
   ]
  },
  {
   "cell_type": "markdown",
   "id": "18dbf31e-696d-42b2-bf74-5c39639a66db",
   "metadata": {},
   "source": [
    "### STEP 1: Installing the required Python libraries "
   ]
  },
  {
   "cell_type": "code",
   "execution_count": 43,
   "id": "5d72652b-5282-42db-b388-9cef6ae4d49b",
   "metadata": {},
   "outputs": [
    {
     "name": "stdout",
     "output_type": "stream",
     "text": [
      "Requirement already satisfied: pandas in c:\\users\\asus\\appdata\\local\\programs\\python\\python311\\lib\\site-packages (2.3.0)\n",
      "Requirement already satisfied: numpy>=1.23.2 in c:\\users\\asus\\appdata\\local\\programs\\python\\python311\\lib\\site-packages (from pandas) (2.1.3)\n",
      "Requirement already satisfied: python-dateutil>=2.8.2 in c:\\users\\asus\\appdata\\local\\programs\\python\\python311\\lib\\site-packages (from pandas) (2.9.0.post0)\n",
      "Requirement already satisfied: pytz>=2020.1 in c:\\users\\asus\\appdata\\local\\programs\\python\\python311\\lib\\site-packages (from pandas) (2025.2)\n",
      "Requirement already satisfied: tzdata>=2022.7 in c:\\users\\asus\\appdata\\local\\programs\\python\\python311\\lib\\site-packages (from pandas) (2025.2)\n",
      "Requirement already satisfied: six>=1.5 in c:\\users\\asus\\appdata\\local\\programs\\python\\python311\\lib\\site-packages (from python-dateutil>=2.8.2->pandas) (1.17.0)\n"
     ]
    }
   ],
   "source": [
    "!pip install pandas"
   ]
  },
  {
   "cell_type": "markdown",
   "id": "c98d8ae2-d471-4003-b434-e468c62e7777",
   "metadata": {},
   "source": [
    "### STEP 2: Importing all the necessary libraries and modules"
   ]
  },
  {
   "cell_type": "code",
   "execution_count": 67,
   "id": "0ba0037c-4b40-41e2-8858-23506ae88ce4",
   "metadata": {},
   "outputs": [],
   "source": [
    "import pandas as pd\n",
    "import numpy as np\n",
    "import re"
   ]
  },
  {
   "cell_type": "markdown",
   "id": "36271731-6200-4351-b33e-5072f8695a79",
   "metadata": {},
   "source": [
    "### STEP 3: Loading and preview of the working file to be cleaned"
   ]
  },
  {
   "cell_type": "code",
   "execution_count": 68,
   "id": "b59630bf-24de-4d4d-9b6e-5bc1421c1c4b",
   "metadata": {},
   "outputs": [
    {
     "name": "stdout",
     "output_type": "stream",
     "text": [
      "----------- Initial Data Preview -----------\n",
      "  Record Number Record Type Publication/Issue Date Filing/Application Date  \\\n",
      "0    IN548672A1      patent       27-08-2024 00:00              12-07-2016   \n",
      "1    IN551134A1      patent       26-09-2024 00:00              10-02-2006   \n",
      "2    IN467364A1      patent       08-11-2023 00:00              01-04-2016   \n",
      "3    IN496363A1      patent       09-01-2024 00:00              05-03-2015   \n",
      "4    IN248627A1      patent       29-07-2011 00:00              23-12-2003   \n",
      "\n",
      "  Publication Country Priority Date (Record)  Application No.  \\\n",
      "0                  IN                    NaN  IN201621023874A   \n",
      "1                  IN                    NaN     IN368DE2006A   \n",
      "2                  IN                    NaN  IN201621011694A   \n",
      "3                  IN                    NaN     IN627DE2015A   \n",
      "4                  IN                    NaN    IN1600DE2003A   \n",
      "\n",
      "  Application No. Original Priority Country Code  Priority Year  ...  \\\n",
      "0           IN201621023874                    IN           2016  ...   \n",
      "1             368/DEL/2006                    IN           2006  ...   \n",
      "2           IN201621011694                    IN           2016  ...   \n",
      "3             627/DEL/2015                    IN           2015  ...   \n",
      "4            1600/DEL/2003                   NaN           2003  ...   \n",
      "\n",
      "                          First Named Inventor  \\\n",
      "0                               SMITHA V KURUP   \n",
      "1       MR BHARAT RAGHUNATH CHAR INDIA  ( IN )   \n",
      "2                               PARAMITA GHOSH   \n",
      "3             KHANALE VAISHALI PRAVEEN  ( IN )   \n",
      "4  CHAR BHARAT RAGHUNATH  ( AURANGABAD ,  IN )   \n",
      "\n",
      "                                          Applicant  \\\n",
      "0     MAHARASHTRA HYBRID SEEDS COMPANY PVT LTD (IN)   \n",
      "1  MAHARASHTRA HYBRID SEEDS COMPANY LTD (NEW DELHI)   \n",
      "2     MAHARASHTRA HYBRID SEEDS COMPANY PVT LTD (IN)   \n",
      "3      MAHARASHTRA HYBRID SEEDS COMPANY LTD (DELHI)   \n",
      "4         MAHARASHTRA HYBRID SEEDS COMPANY LTD (IN)   \n",
      "\n",
      "                              Current Owner No. of Assignees No. of Inventors  \\\n",
      "0  MAHARASHTRA HYBRID SEEDS COMPANY PVT LTD                1                3   \n",
      "1      MAHARASHTRA HYBRID SEEDS COMPANY LTD                1                2   \n",
      "2  MAHARASHTRA HYBRID SEEDS COMPANY PVT LTD                1                4   \n",
      "3      MAHARASHTRA HYBRID SEEDS COMPANY LTD                1                3   \n",
      "4      MAHARASHTRA HYBRID SEEDS COMPANY LTD                1                2   \n",
      "\n",
      "  Assignee Type    IPC Revised (ICR)                  CPC  \\\n",
      "0          FIRM  A01G25/00; A01G9/00  A01G25/00; A01G9/00   \n",
      "1          FIRM             A01H1/00             A01H1/00   \n",
      "2          FIRM            C07K14/00                  NaN   \n",
      "3          FIRM             A01H1/00             A01H1/00   \n",
      "4          FIRM             B10N33/5                  NaN   \n",
      "\n",
      "  IPC All Versions (IC) CPC Main Group (CPCG)  \n",
      "0   A01G25/00; A01G9/00         A01G25; A01G9  \n",
      "1              A01H1/00                 A01H1  \n",
      "2             C07K14/00                   NaN  \n",
      "3              A01H1/00                 A01H1  \n",
      "4              B10N33/5                   NaN  \n",
      "\n",
      "[5 rows x 36 columns]\n",
      "\n",
      "----------- DataFrame Info -----------\n",
      "<class 'pandas.core.frame.DataFrame'>\n",
      "RangeIndex: 37297 entries, 0 to 37296\n",
      "Data columns (total 36 columns):\n",
      " #   Column                    Non-Null Count  Dtype \n",
      "---  ------                    --------------  ----- \n",
      " 0   Record Number             37297 non-null  object\n",
      " 1   Record Type               37297 non-null  object\n",
      " 2   Publication/Issue Date    37295 non-null  object\n",
      " 3   Filing/Application Date   37297 non-null  object\n",
      " 4   Publication Country       37297 non-null  object\n",
      " 5   Priority Date (Record)    26928 non-null  object\n",
      " 6   Application No.           37297 non-null  object\n",
      " 7   Application No. Original  37297 non-null  object\n",
      " 8   Priority Country Code     32892 non-null  object\n",
      " 9   Priority Year             37297 non-null  int64 \n",
      " 10  PCT Application Number    6261 non-null   object\n",
      " 11  PCT Patent Number         6645 non-null   object\n",
      " 12  Industry                  33998 non-null  object\n",
      " 13  Tech Domain               25530 non-null  object\n",
      " 14  Tech Sub Domain           25530 non-null  object\n",
      " 15  Region                    37297 non-null  object\n",
      " 16  Assignee                  37294 non-null  object\n",
      " 17  Assignee Original         37294 non-null  object\n",
      " 18  Assignee Address          27390 non-null  object\n",
      " 19  Assignee City             33221 non-null  object\n",
      " 20  Assignee State            34961 non-null  object\n",
      " 21  Assignee Country          37297 non-null  object\n",
      " 22  Current Assignee          37288 non-null  object\n",
      " 23  Inventors                 37258 non-null  object\n",
      " 24  Inventor Address          8502 non-null   object\n",
      " 25  Inventor Country          17013 non-null  object\n",
      " 26  First Named Inventor      37258 non-null  object\n",
      " 27  Applicant                 37294 non-null  object\n",
      " 28  Current Owner             37289 non-null  object\n",
      " 29  No. of Assignees          37297 non-null  int64 \n",
      " 30  No. of Inventors          37297 non-null  int64 \n",
      " 31  Assignee Type             37297 non-null  object\n",
      " 32  IPC Revised (ICR)         36390 non-null  object\n",
      " 33  CPC                       15010 non-null  object\n",
      " 34  IPC All Versions (IC)     36449 non-null  object\n",
      " 35  CPC Main Group (CPCG)     15008 non-null  object\n",
      "dtypes: int64(3), object(33)\n",
      "memory usage: 10.2+ MB\n"
     ]
    }
   ],
   "source": [
    "try:\n",
    "    # Load the CSV file\n",
    "    df = pd.read_csv(r\"C:\\Users\\ASUS\\Desktop\\Research Work\\main working file\\Sonal_GIN.csv\")\n",
    "\n",
    "    # Display the first 5 rows to get an overview\n",
    "    print(\"----------- Initial Data Preview -----------\")\n",
    "    print(df.head())\n",
    "\n",
    "    # Get a summary of the DataFrame\n",
    "    print(\"\\n----------- DataFrame Info -----------\")\n",
    "    df.info()\n",
    "\n",
    "except FileNotFoundError:\n",
    "    print(\"Error: 'Sonal_AIN.csv' not found. Make sure the file is in the same directory as your notebook.\")\n",
    "except Exception as e:\n",
    "    print(f\"An error occurred: {e}\")"
   ]
  },
  {
   "cell_type": "markdown",
   "id": "a5e91225-98d4-453a-b125-2d0993f57544",
   "metadata": {},
   "source": [
    "### STEP 4: Main Cleaning logic of the IPC Codes"
   ]
  },
  {
   "cell_type": "code",
   "execution_count": 69,
   "id": "bd9c51c1-b0dd-40a6-ad18-d021a88cb810",
   "metadata": {},
   "outputs": [],
   "source": [
    "# IPC Cleaning function with all the logic.\n",
    "\n",
    "def clean_ipc_code(code):\n",
    "    \"\"\"\n",
    "    Cleans and formats IPC codes with all rules:\n",
    "    1. Handles all types of empty/missing values precisely.\n",
    "    2. Removes leading commas, spaces, and slashes.\n",
    "    3. Converts to uppercase.\n",
    "    4. Splits concatenated codes by inserting a ';' before every 3rd, 5th, etc., letter.\n",
    "    \"\"\"\n",
    "    # Rule: Handle truly missing values (NaN)\n",
    "    if pd.isna(code):\n",
    "        return None\n",
    "\n",
    "    code_str = str(code)\n",
    "\n",
    "    # Rule: Handle text \"None\" or blank strings\n",
    "    if code_str.strip().upper() == 'NONE':\n",
    "        return None\n",
    "    if not code_str.strip():\n",
    "        return \"\"\n",
    "\n",
    "    # --- Initial Cleaning ---\n",
    "    cleaned_code = code_str.strip().lstrip(',')\n",
    "    cleaned_code = cleaned_code.upper()\n",
    "    cleaned_code = cleaned_code.replace('/', '').replace(' ', '')\n",
    "\n",
    "    # Removes any comma that immediately follows a semicolon\n",
    "    cleaned_code = cleaned_code.replace(';,', ';')\n",
    "\n",
    "    # --- New Formatting Logic ---\n",
    "    def format_ipc_chunk(chunk):\n",
    "        \"\"\"Helper to process a single string chunk between semicolons.\"\"\"\n",
    "        if not chunk:\n",
    "            return \"\"\n",
    "        \n",
    "        result = []\n",
    "        letter_count = 0\n",
    "        for char in chunk:\n",
    "            if char.isalpha():\n",
    "                letter_count += 1\n",
    "                # If it's an odd-numbered letter count beyond the first one, add a separator\n",
    "                if letter_count > 1 and letter_count % 2 != 0:\n",
    "                    result.append(';')\n",
    "            result.append(char)\n",
    "        return \"\".join(result)\n",
    "\n",
    "    # Split by any existing semicolons first\n",
    "    code_chunks = cleaned_code.split(';')\n",
    "    \n",
    "    # Apply the new formatting to each chunk\n",
    "    formatted_chunks = [format_ipc_chunk(chunk) for chunk in code_chunks]\n",
    "    \n",
    "    # Join them back together\n",
    "    final_code = \";\".join(formatted_chunks)\n",
    "    \n",
    "    return final_code"
   ]
  },
  {
   "cell_type": "markdown",
   "id": "01f548cd-d2f4-4ca2-9238-66882bb7c4c0",
   "metadata": {},
   "source": [
    "### STEP 5: Select the Columns to be cleaned and insert the new cleaned columns"
   ]
  },
  {
   "cell_type": "code",
   "execution_count": 70,
   "id": "481ae665-eeb6-4b0a-b725-aa03ff81c155",
   "metadata": {},
   "outputs": [
    {
     "name": "stdout",
     "output_type": "stream",
     "text": [
      "\n",
      "Successfully cleaned 'IPC Revised (ICR)' column.\n",
      "Successfully cleaned 'IPC All Versions (IC)' column.\n"
     ]
    }
   ],
   "source": [
    "# Make a copy to avoid modifying the original DataFrame\n",
    "df_cleaned = df.copy()\n",
    "\n",
    "# Clean 'IPC Revised (ICR)' and create a new column\n",
    "if 'IPC Revised (ICR)' in df_cleaned.columns:\n",
    "    df_cleaned['Cleaned_ICR'] = df_cleaned['IPC Revised (ICR)'].apply(clean_ipc_code)\n",
    "    print(\"\\nSuccessfully cleaned 'IPC Revised (ICR)' column.\")\n",
    "else:\n",
    "    print(\"\\nWarning: 'IPC Revised (ICR)' column not found.\")\n",
    "\n",
    "\n",
    "# Clean 'IPC All Versions (IC)' and create a new column\n",
    "if 'IPC All Versions (IC)' in df_cleaned.columns:\n",
    "    df_cleaned['Cleaned_IC'] = df_cleaned['IPC All Versions (IC)'].apply(clean_ipc_code)\n",
    "    print(\"Successfully cleaned 'IPC All Versions (IC)' column.\")\n",
    "else:\n",
    "    print(\"Warning: 'IPC All Versions (IC)' column not found.\")"
   ]
  },
  {
   "cell_type": "markdown",
   "id": "335be97e-b243-4f42-b2b9-715743b0c8a9",
   "metadata": {},
   "source": [
    "### STEP 6: Comparing the new columns with the old columns "
   ]
  },
  {
   "cell_type": "code",
   "execution_count": 1,
   "id": "d3b0f69b-8981-4a4d-bf72-edc09633e594",
   "metadata": {
    "collapsed": true,
    "jupyter": {
     "outputs_hidden": true
    }
   },
   "outputs": [
    {
     "ename": "NameError",
     "evalue": "name 'df_cleaned' is not defined",
     "output_type": "error",
     "traceback": [
      "\u001b[1;31m---------------------------------------------------------------------------\u001b[0m",
      "\u001b[1;31mNameError\u001b[0m                                 Traceback (most recent call last)",
      "Cell \u001b[1;32mIn[1], line 3\u001b[0m\n\u001b[0;32m      1\u001b[0m \u001b[38;5;66;03m# Select the original and new columns to compare\u001b[39;00m\n\u001b[0;32m      2\u001b[0m columns_to_show \u001b[38;5;241m=\u001b[39m []\n\u001b[1;32m----> 3\u001b[0m \u001b[38;5;28;01mif\u001b[39;00m \u001b[38;5;124m'\u001b[39m\u001b[38;5;124mIPC Revised (ICR)\u001b[39m\u001b[38;5;124m'\u001b[39m \u001b[38;5;129;01min\u001b[39;00m \u001b[43mdf_cleaned\u001b[49m\u001b[38;5;241m.\u001b[39mcolumns:\n\u001b[0;32m      4\u001b[0m     columns_to_show\u001b[38;5;241m.\u001b[39mextend([\u001b[38;5;124m'\u001b[39m\u001b[38;5;124mIPC Revised (ICR)\u001b[39m\u001b[38;5;124m'\u001b[39m, \u001b[38;5;124m'\u001b[39m\u001b[38;5;124mCleaned_ICR\u001b[39m\u001b[38;5;124m'\u001b[39m])\n\u001b[0;32m      6\u001b[0m \u001b[38;5;28;01mif\u001b[39;00m \u001b[38;5;124m'\u001b[39m\u001b[38;5;124mIPC All Versions (IC)\u001b[39m\u001b[38;5;124m'\u001b[39m \u001b[38;5;129;01min\u001b[39;00m df_cleaned\u001b[38;5;241m.\u001b[39mcolumns:\n",
      "\u001b[1;31mNameError\u001b[0m: name 'df_cleaned' is not defined"
     ]
    }
   ],
   "source": [
    "# Select the original and new columns to compare\n",
    "columns_to_show = []\n",
    "if 'IPC Revised (ICR)' in df_cleaned.columns:\n",
    "    columns_to_show.extend(['IPC Revised (ICR)', 'Cleaned_ICR'])\n",
    "\n",
    "if 'IPC All Versions (IC)' in df_cleaned.columns:\n",
    "    columns_to_show.extend(['IPC All Versions (IC)', 'Cleaned_IC'])\n",
    "\n",
    "\n",
    "if columns_to_show:\n",
    "    print(\"\\n----------- Verification: Original vs. Cleaned -----------\")\n",
    "    print(df_cleaned[columns_to_show].head())\n",
    "else:\n",
    "    print(\"\\nNo IPC columns were found to display.\")"
   ]
  },
  {
   "cell_type": "markdown",
   "id": "11f2ec56-5aa7-4d39-a0ee-7c959986f42d",
   "metadata": {},
   "source": [
    "### STEP 7: Save the cleaned files"
   ]
  },
  {
   "cell_type": "code",
   "execution_count": 72,
   "id": "a1e939e9-c1cd-49ef-aa8d-74df1f34c2fd",
   "metadata": {},
   "outputs": [
    {
     "name": "stdout",
     "output_type": "stream",
     "text": [
      "\n",
      "Successfully saved the cleaned data to 'Sonal_GIN_final_clean_code_file.csv'\n"
     ]
    }
   ],
   "source": [
    "# Save the new DataFrame with cleaned columns to a new CSV file\n",
    "try:\n",
    "    df_cleaned.to_csv('Sonal_GIN_final_clean_code_file.csv', index=False)\n",
    "    print(\"\\nSuccessfully saved the cleaned data to 'Sonal_GIN_final_clean_code_file.csv'\")\n",
    "except Exception as e:\n",
    "    print(f\"\\nAn error occurred while saving the file: {e}\")"
   ]
  },
  {
   "cell_type": "code",
   "execution_count": null,
   "id": "8d16ea37-a962-4fba-9838-e78a6fe5556d",
   "metadata": {},
   "outputs": [],
   "source": []
  }
 ],
 "metadata": {
  "kernelspec": {
   "display_name": "Python 3 (ipykernel)",
   "language": "python",
   "name": "python3"
  },
  "language_info": {
   "codemirror_mode": {
    "name": "ipython",
    "version": 3
   },
   "file_extension": ".py",
   "mimetype": "text/x-python",
   "name": "python",
   "nbconvert_exporter": "python",
   "pygments_lexer": "ipython3",
   "version": "3.13.1"
  }
 },
 "nbformat": 4,
 "nbformat_minor": 5
}
